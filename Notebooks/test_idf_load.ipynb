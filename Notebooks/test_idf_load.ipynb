{
 "cells": [
  {
   "cell_type": "code",
   "execution_count": 1,
   "id": "4075a66d-1a5c-40bb-be35-73b89e35f7bb",
   "metadata": {},
   "outputs": [],
   "source": [
    "from eppy import modeleditor\n",
    "from eppy.modeleditor import IDF\n",
    "import os\n",
    "from pathlib import Path"
   ]
  },
  {
   "cell_type": "code",
   "execution_count": 2,
   "id": "ac2c8727-a01b-4ada-8dee-03705e4be99a",
   "metadata": {},
   "outputs": [],
   "source": [
    "model_name, conditioned_zones, unconditioned_zones =\\\n",
    "        'green_husky', \\\n",
    "        ['living_1', ], \\\n",
    "        ['garage', 'unfinishedattic', 'Dummy', 'RA Duct Zone_1']"
   ]
  },
  {
   "cell_type": "code",
   "execution_count": 3,
   "id": "58821aba-6d75-4d38-9aea-8ea856c23b49",
   "metadata": {},
   "outputs": [],
   "source": [
    "# iddfile = \"../eppy/resources/iddfiles/Energy+V7_2_0.idd\"\n",
    "# iddfile = \"D:\\devel\\CoSimAlfalfa\\cosim\\ip_op\\idf_files\\husky\\V9-6-0-Energy+.idd\"\n",
    "iddfile = os.path.join('ip_op','idf_files', model_name,'V9-6-0-Energy+.idd')\n",
    "# fname1 = \"D:\\devel\\CoSimAlfalfa\\cosim\\ip_op\\idf_files\\husky\\husky.idf\"\n",
    "# fname1 = \"D:\\devel\\CoSimAlfalfa\\cosim\\ip_op\\idf_files\\green_husky\\GreenBuiltHeatpumpV96.idf\"\n",
    "fname1 = os.path.join('ip_op','idf_files', model_name,'GreenBuiltHeatpumpV96.idf')"
   ]
  },
  {
   "cell_type": "code",
   "execution_count": 4,
   "id": "eb33f247-f373-4bc0-a6fd-d2dba0536d67",
   "metadata": {},
   "outputs": [],
   "source": [
    "IDF.setiddname(iddfile)\n",
    "idf1 = IDF(fname1)"
   ]
  },
  {
   "cell_type": "code",
   "execution_count": 5,
   "id": "39b72d9c-4aa8-4201-96e6-b0ddd8bc87f1",
   "metadata": {},
   "outputs": [
    {
     "data": {
      "text/plain": [
       "True"
      ]
     },
     "execution_count": 5,
     "metadata": {},
     "output_type": "execute_result"
    }
   ],
   "source": [
    "Path(fname1).resolve().exists()"
   ]
  },
  {
   "cell_type": "code",
   "execution_count": 6,
   "id": "d93275d3-c888-473d-8e5a-4be5d030acca",
   "metadata": {},
   "outputs": [
    {
     "data": {
      "text/plain": [
       "WindowsPath('D:/devel/CoSimAlfalfa/cosim/ip_op/idf_files/green_husky/GreenBuiltHeatpumpV96.idf')"
      ]
     },
     "execution_count": 6,
     "metadata": {},
     "output_type": "execute_result"
    }
   ],
   "source": [
    "Path(fname1).resolve()"
   ]
  },
  {
   "cell_type": "code",
   "execution_count": 8,
   "id": "852a18ea-586a-4f57-a57a-9af9419a8af0",
   "metadata": {},
   "outputs": [
    {
     "data": {
      "text/plain": [
       "\n",
       "ZoneControl:Thermostat,\n",
       "    living_1 Zone Thermostat,    !- Name\n",
       "    living_1,                 !- Zone or ZoneList Name\n",
       "    LivingZoneControl_1,      !- Control Type Schedule Name\n",
       "    ThermostatSetpoint:DualSetpoint,    !- Control 1 Object Type\n",
       "    living_1 Zone Temperature SP,    !- Control 1 Name\n",
       "    ,                         !- Control 2 Object Type\n",
       "    ,                         !- Control 2 Name\n",
       "    ,                         !- Control 3 Object Type\n",
       "    ,                         !- Control 3 Name\n",
       "    ,                         !- Control 4 Object Type\n",
       "    ,                         !- Control 4 Name\n",
       "    1.5;                      !- Temperature Difference Between Cutout And Setpoint"
      ]
     },
     "execution_count": 8,
     "metadata": {},
     "output_type": "execute_result"
    }
   ],
   "source": [
    "idf1.idfobjects['ZoneControl:Thermostat'][0]"
   ]
  },
  {
   "cell_type": "code",
   "execution_count": 13,
   "id": "314d1acf-f90e-4549-b8f7-f8963b2f4358",
   "metadata": {},
   "outputs": [
    {
     "data": {
      "text/plain": [
       "float"
      ]
     },
     "execution_count": 13,
     "metadata": {},
     "output_type": "execute_result"
    }
   ],
   "source": [
    "type(idf1.idfobjects['ZoneControl:Thermostat'][0].Temperature_Difference_Between_Cutout_And_Setpoint)"
   ]
  },
  {
   "cell_type": "code",
   "execution_count": 10,
   "id": "a422bde2-0e13-47d3-b03f-2fce76a47c24",
   "metadata": {},
   "outputs": [],
   "source": [
    "import os"
   ]
  },
  {
   "cell_type": "code",
   "execution_count": 11,
   "id": "72a8604b-e4cf-4b74-876c-5d26499a42f0",
   "metadata": {},
   "outputs": [],
   "source": [
    "model_name, conditioned_zones, unconditioned_zones =\\\n",
    "        'husky', \\\n",
    "        ['Zone Conditioned', ], \\\n",
    "        ['Zone Unconditioned Attic', 'Zone Unconditioned Basement']"
   ]
  },
  {
   "cell_type": "code",
   "execution_count": 12,
   "id": "820a0f62-3bf0-411a-a3b0-f7fc367cd769",
   "metadata": {},
   "outputs": [
    {
     "data": {
      "text/plain": [
       "'ip_op\\\\idf_files\\\\husky\\\\V9-6-0-Energy+.idd'"
      ]
     },
     "execution_count": 12,
     "metadata": {},
     "output_type": "execute_result"
    }
   ],
   "source": [
    "os.path.join('ip_op','idf_files', model_name,'V9-6-0-Energy+.idd')"
   ]
  },
  {
   "cell_type": "code",
   "execution_count": null,
   "id": "f04a9e3f-06eb-4aab-949a-4235a5e3b74e",
   "metadata": {},
   "outputs": [],
   "source": [
    "os.path.join('ip_op','idf_files', model_name, 'green_husky','GreenBuiltHeatpumpV96.idf')"
   ]
  },
  {
   "cell_type": "code",
   "execution_count": null,
   "id": "2a510f9e-7332-40b7-87d2-62c4c33b40fa",
   "metadata": {},
   "outputs": [],
   "source": []
  }
 ],
 "metadata": {
  "kernelspec": {
   "display_name": "cosim_light",
   "language": "python",
   "name": "cosim_light"
  },
  "language_info": {
   "codemirror_mode": {
    "name": "ipython",
    "version": 3
   },
   "file_extension": ".py",
   "mimetype": "text/x-python",
   "name": "python",
   "nbconvert_exporter": "python",
   "pygments_lexer": "ipython3",
   "version": "3.10.11"
  }
 },
 "nbformat": 4,
 "nbformat_minor": 5
}
